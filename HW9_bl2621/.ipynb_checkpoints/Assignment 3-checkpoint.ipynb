{
 "cells": [
  {
   "cell_type": "code",
   "execution_count": 28,
   "metadata": {},
   "outputs": [
    {
     "name": "stdout",
     "output_type": "stream",
     "text": [
      "Populating the interactive namespace from numpy and matplotlib\n"
     ]
    }
   ],
   "source": [
    "import  urllib\n",
    "import geopandas\n",
    "import pandas as pd\n",
    "import numpy as np\n",
    "import os\n",
    "import requests\n",
    "import json\n",
    "import io\n",
    "import csv\n",
    "import shapely\n",
    "%pylab inline"
   ]
  },
  {
   "cell_type": "code",
   "execution_count": 29,
   "metadata": {},
   "outputs": [
    {
     "data": {
      "text/html": [
       "<div>\n",
       "<table border=\"1\" class=\"dataframe\">\n",
       "  <thead>\n",
       "    <tr style=\"text-align: right;\">\n",
       "      <th></th>\n",
       "      <th>Country/Territory</th>\n",
       "      <th>ISO code</th>\n",
       "      <th>Source</th>\n",
       "      <th>% of homicides by firearm</th>\n",
       "      <th>Number of homicides by firearm</th>\n",
       "      <th>Homicide by firearm rate per 100,000 pop</th>\n",
       "      <th>Rank by rate of ownership</th>\n",
       "      <th>Average firearms per 100 people</th>\n",
       "      <th>Average total all civilian firearms</th>\n",
       "    </tr>\n",
       "  </thead>\n",
       "  <tbody>\n",
       "    <tr>\n",
       "      <th>0</th>\n",
       "      <td>Albania</td>\n",
       "      <td>AL</td>\n",
       "      <td>CTS</td>\n",
       "      <td>65.9</td>\n",
       "      <td>56.0</td>\n",
       "      <td>1.76</td>\n",
       "      <td>70.0</td>\n",
       "      <td>8.6</td>\n",
       "      <td>270000.0</td>\n",
       "    </tr>\n",
       "    <tr>\n",
       "      <th>1</th>\n",
       "      <td>Algeria</td>\n",
       "      <td>DZ</td>\n",
       "      <td>CTS</td>\n",
       "      <td>4.8</td>\n",
       "      <td>20.0</td>\n",
       "      <td>0.06</td>\n",
       "      <td>78.0</td>\n",
       "      <td>7.6</td>\n",
       "      <td>1900000.0</td>\n",
       "    </tr>\n",
       "    <tr>\n",
       "      <th>2</th>\n",
       "      <td>Angola</td>\n",
       "      <td>AO</td>\n",
       "      <td>NaN</td>\n",
       "      <td>NaN</td>\n",
       "      <td>NaN</td>\n",
       "      <td>NaN</td>\n",
       "      <td>34.0</td>\n",
       "      <td>17.3</td>\n",
       "      <td>2800000.0</td>\n",
       "    </tr>\n",
       "    <tr>\n",
       "      <th>3</th>\n",
       "      <td>Anguilla</td>\n",
       "      <td>AI</td>\n",
       "      <td>WHO-MDB</td>\n",
       "      <td>24.0</td>\n",
       "      <td>1.0</td>\n",
       "      <td>7.14</td>\n",
       "      <td>NaN</td>\n",
       "      <td>NaN</td>\n",
       "      <td>NaN</td>\n",
       "    </tr>\n",
       "    <tr>\n",
       "      <th>4</th>\n",
       "      <td>Argentina</td>\n",
       "      <td>AR</td>\n",
       "      <td>Ministry of Justice</td>\n",
       "      <td>52.0</td>\n",
       "      <td>1198.0</td>\n",
       "      <td>3.02</td>\n",
       "      <td>62.0</td>\n",
       "      <td>10.2</td>\n",
       "      <td>3950000.0</td>\n",
       "    </tr>\n",
       "  </tbody>\n",
       "</table>\n",
       "</div>"
      ],
      "text/plain": [
       "  Country/Territory ISO code               Source  % of homicides by firearm  \\\n",
       "0           Albania       AL                  CTS                       65.9   \n",
       "1           Algeria       DZ                  CTS                        4.8   \n",
       "2            Angola       AO                  NaN                        NaN   \n",
       "3          Anguilla       AI              WHO-MDB                       24.0   \n",
       "4         Argentina       AR  Ministry of Justice                       52.0   \n",
       "\n",
       "   Number of homicides by firearm  Homicide by firearm rate per 100,000 pop  \\\n",
       "0                            56.0                                      1.76   \n",
       "1                            20.0                                      0.06   \n",
       "2                             NaN                                       NaN   \n",
       "3                             1.0                                      7.14   \n",
       "4                          1198.0                                      3.02   \n",
       "\n",
       "   Rank by rate of ownership  Average firearms per 100 people  \\\n",
       "0                       70.0                              8.6   \n",
       "1                       78.0                              7.6   \n",
       "2                       34.0                             17.3   \n",
       "3                        NaN                              NaN   \n",
       "4                       62.0                             10.2   \n",
       "\n",
       "   Average total all civilian firearms  \n",
       "0                             270000.0  \n",
       "1                            1900000.0  \n",
       "2                            2800000.0  \n",
       "3                                  NaN  \n",
       "4                            3950000.0  "
      ]
     },
     "execution_count": 29,
     "metadata": {},
     "output_type": "execute_result"
    }
   ],
   "source": [
    "df = pd.read_csv(os.getenv(\"PUIDATA\") + \"/World firearms murders and ownership - Sheet 1.csv\")\n",
    "df.head()"
   ]
  },
  {
   "cell_type": "code",
   "execution_count": 30,
   "metadata": {},
   "outputs": [],
   "source": [
    "shooting = pd.read_csv(os.getenv(\"PUIDATA\") + \"/data-pvLFI.csv\")"
   ]
  },
  {
   "cell_type": "code",
   "execution_count": 31,
   "metadata": {},
   "outputs": [
    {
     "data": {
      "text/html": [
       "<div>\n",
       "<table border=\"1\" class=\"dataframe\">\n",
       "  <thead>\n",
       "    <tr style=\"text-align: right;\">\n",
       "      <th></th>\n",
       "      <th>Country</th>\n",
       "      <th>Guns per 100 inhabitants</th>\n",
       "      <th>Number of mass shootings (1983-2013)</th>\n",
       "    </tr>\n",
       "  </thead>\n",
       "  <tbody>\n",
       "    <tr>\n",
       "      <th>0</th>\n",
       "      <td>Australia</td>\n",
       "      <td>15.0</td>\n",
       "      <td>4</td>\n",
       "    </tr>\n",
       "    <tr>\n",
       "      <th>1</th>\n",
       "      <td>Austria</td>\n",
       "      <td>30.4</td>\n",
       "      <td>1</td>\n",
       "    </tr>\n",
       "    <tr>\n",
       "      <th>2</th>\n",
       "      <td>Belgium</td>\n",
       "      <td>17.2</td>\n",
       "      <td>2</td>\n",
       "    </tr>\n",
       "    <tr>\n",
       "      <th>3</th>\n",
       "      <td>Canada</td>\n",
       "      <td>30.8</td>\n",
       "      <td>4</td>\n",
       "    </tr>\n",
       "    <tr>\n",
       "      <th>4</th>\n",
       "      <td>Denmark</td>\n",
       "      <td>12.0</td>\n",
       "      <td>0</td>\n",
       "    </tr>\n",
       "  </tbody>\n",
       "</table>\n",
       "</div>"
      ],
      "text/plain": [
       "     Country  Guns per 100 inhabitants  Number of mass shootings (1983-2013)\n",
       "0  Australia                      15.0                                     4\n",
       "1    Austria                      30.4                                     1\n",
       "2    Belgium                      17.2                                     2\n",
       "3     Canada                      30.8                                     4\n",
       "4    Denmark                      12.0                                     0"
      ]
     },
     "execution_count": 31,
     "metadata": {},
     "output_type": "execute_result"
    }
   ],
   "source": [
    "shooting.head()"
   ]
  },
  {
   "cell_type": "code",
   "execution_count": 32,
   "metadata": {},
   "outputs": [
    {
     "data": {
      "text/html": [
       "<div>\n",
       "<table border=\"1\" class=\"dataframe\">\n",
       "  <thead>\n",
       "    <tr style=\"text-align: right;\">\n",
       "      <th></th>\n",
       "      <th>Country Name</th>\n",
       "      <th>2012 [YR2012]</th>\n",
       "    </tr>\n",
       "  </thead>\n",
       "  <tbody>\n",
       "    <tr>\n",
       "      <th>0</th>\n",
       "      <td>Afghanistan</td>\n",
       "      <td>20536542736.7297</td>\n",
       "    </tr>\n",
       "    <tr>\n",
       "      <th>1</th>\n",
       "      <td>Albania</td>\n",
       "      <td>12319784787.2987</td>\n",
       "    </tr>\n",
       "    <tr>\n",
       "      <th>2</th>\n",
       "      <td>Algeria</td>\n",
       "      <td>209058991952.125</td>\n",
       "    </tr>\n",
       "    <tr>\n",
       "      <th>3</th>\n",
       "      <td>American Samoa</td>\n",
       "      <td>644000000</td>\n",
       "    </tr>\n",
       "    <tr>\n",
       "      <th>4</th>\n",
       "      <td>Andorra</td>\n",
       "      <td>3164615186.94591</td>\n",
       "    </tr>\n",
       "  </tbody>\n",
       "</table>\n",
       "</div>"
      ],
      "text/plain": [
       "     Country Name     2012 [YR2012]\n",
       "0     Afghanistan  20536542736.7297\n",
       "1         Albania  12319784787.2987\n",
       "2         Algeria  209058991952.125\n",
       "3  American Samoa         644000000\n",
       "4         Andorra  3164615186.94591"
      ]
     },
     "execution_count": 32,
     "metadata": {},
     "output_type": "execute_result"
    }
   ],
   "source": [
    "GDP = pd.read_csv(os.getenv(\"PUIDATA\") + \"/af422289-c21e-4fb5-9ccd-05217ff620dc_Data.csv\",usecols = ['Country Name','2012 [YR2012]'])\n",
    "GDP.head()"
   ]
  },
  {
   "cell_type": "code",
   "execution_count": 33,
   "metadata": {},
   "outputs": [
    {
     "data": {
      "text/html": [
       "<div>\n",
       "<table border=\"1\" class=\"dataframe\">\n",
       "  <thead>\n",
       "    <tr style=\"text-align: right;\">\n",
       "      <th></th>\n",
       "      <th>Country Name</th>\n",
       "      <th>2012 [YR2012]</th>\n",
       "      <th>Country/Territory</th>\n",
       "      <th>ISO code</th>\n",
       "      <th>Source</th>\n",
       "      <th>% of homicides by firearm</th>\n",
       "      <th>Number of homicides by firearm</th>\n",
       "      <th>Homicide by firearm rate per 100,000 pop</th>\n",
       "      <th>Rank by rate of ownership</th>\n",
       "      <th>Average firearms per 100 people</th>\n",
       "      <th>Average total all civilian firearms</th>\n",
       "    </tr>\n",
       "  </thead>\n",
       "  <tbody>\n",
       "    <tr>\n",
       "      <th>0</th>\n",
       "      <td>Albania</td>\n",
       "      <td>12319784787.2987</td>\n",
       "      <td>Albania</td>\n",
       "      <td>AL</td>\n",
       "      <td>CTS</td>\n",
       "      <td>65.9</td>\n",
       "      <td>56.0</td>\n",
       "      <td>1.76</td>\n",
       "      <td>70.0</td>\n",
       "      <td>8.6</td>\n",
       "      <td>270000.0</td>\n",
       "    </tr>\n",
       "  </tbody>\n",
       "</table>\n",
       "</div>"
      ],
      "text/plain": [
       "  Country Name     2012 [YR2012] Country/Territory ISO code Source  \\\n",
       "0      Albania  12319784787.2987           Albania       AL    CTS   \n",
       "\n",
       "   % of homicides by firearm  Number of homicides by firearm  \\\n",
       "0                       65.9                            56.0   \n",
       "\n",
       "   Homicide by firearm rate per 100,000 pop  Rank by rate of ownership  \\\n",
       "0                                      1.76                       70.0   \n",
       "\n",
       "   Average firearms per 100 people  Average total all civilian firearms  \n",
       "0                              8.6                             270000.0  "
      ]
     },
     "execution_count": 33,
     "metadata": {},
     "output_type": "execute_result"
    }
   ],
   "source": [
    "merge_1 = GDP.merge(df, left_on=\"Country Name\", right_on = \"Country/Territory\")\n",
    "merge_1.head(1)"
   ]
  },
  {
   "cell_type": "code",
   "execution_count": 34,
   "metadata": {},
   "outputs": [
    {
     "data": {
      "text/html": [
       "<div>\n",
       "<table border=\"1\" class=\"dataframe\">\n",
       "  <thead>\n",
       "    <tr style=\"text-align: right;\">\n",
       "      <th></th>\n",
       "      <th>Country Name</th>\n",
       "      <th>2012</th>\n",
       "    </tr>\n",
       "  </thead>\n",
       "  <tbody>\n",
       "    <tr>\n",
       "      <th>0</th>\n",
       "      <td>Aruba</td>\n",
       "      <td>102577.0</td>\n",
       "    </tr>\n",
       "    <tr>\n",
       "      <th>1</th>\n",
       "      <td>Afghanistan</td>\n",
       "      <td>30696958.0</td>\n",
       "    </tr>\n",
       "    <tr>\n",
       "      <th>2</th>\n",
       "      <td>Angola</td>\n",
       "      <td>25096150.0</td>\n",
       "    </tr>\n",
       "    <tr>\n",
       "      <th>3</th>\n",
       "      <td>Albania</td>\n",
       "      <td>2900401.0</td>\n",
       "    </tr>\n",
       "    <tr>\n",
       "      <th>4</th>\n",
       "      <td>Andorra</td>\n",
       "      <td>82431.0</td>\n",
       "    </tr>\n",
       "  </tbody>\n",
       "</table>\n",
       "</div>"
      ],
      "text/plain": [
       "  Country Name        2012\n",
       "0        Aruba    102577.0\n",
       "1  Afghanistan  30696958.0\n",
       "2       Angola  25096150.0\n",
       "3      Albania   2900401.0\n",
       "4      Andorra     82431.0"
      ]
     },
     "execution_count": 34,
     "metadata": {},
     "output_type": "execute_result"
    }
   ],
   "source": [
    "pop = pd.read_csv(os.getenv(\"PUIDATA\") + \"/API_SP.POP.TOTL_DS2_en_csv_v2_10203548.csv\",usecols = ['Country Name', '2012'])\n",
    "pop.head()"
   ]
  },
  {
   "cell_type": "code",
   "execution_count": 35,
   "metadata": {},
   "outputs": [
    {
     "data": {
      "text/html": [
       "<div>\n",
       "<table border=\"1\" class=\"dataframe\">\n",
       "  <thead>\n",
       "    <tr style=\"text-align: right;\">\n",
       "      <th></th>\n",
       "      <th>Country Name</th>\n",
       "      <th>2012 [YR2012]</th>\n",
       "      <th>Country/Territory</th>\n",
       "      <th>ISO code</th>\n",
       "      <th>Source</th>\n",
       "      <th>% of homicides by firearm</th>\n",
       "      <th>Number of homicides by firearm</th>\n",
       "      <th>Homicide by firearm rate per 100,000 pop</th>\n",
       "      <th>Rank by rate of ownership</th>\n",
       "      <th>Average firearms per 100 people</th>\n",
       "      <th>Average total all civilian firearms</th>\n",
       "      <th>2012</th>\n",
       "    </tr>\n",
       "  </thead>\n",
       "  <tbody>\n",
       "    <tr>\n",
       "      <th>0</th>\n",
       "      <td>Albania</td>\n",
       "      <td>12319784787.2987</td>\n",
       "      <td>Albania</td>\n",
       "      <td>AL</td>\n",
       "      <td>CTS</td>\n",
       "      <td>65.9</td>\n",
       "      <td>56.0</td>\n",
       "      <td>1.76</td>\n",
       "      <td>70.0</td>\n",
       "      <td>8.6</td>\n",
       "      <td>270000.0</td>\n",
       "      <td>2900401.0</td>\n",
       "    </tr>\n",
       "    <tr>\n",
       "      <th>1</th>\n",
       "      <td>Algeria</td>\n",
       "      <td>209058991952.125</td>\n",
       "      <td>Algeria</td>\n",
       "      <td>DZ</td>\n",
       "      <td>CTS</td>\n",
       "      <td>4.8</td>\n",
       "      <td>20.0</td>\n",
       "      <td>0.06</td>\n",
       "      <td>78.0</td>\n",
       "      <td>7.6</td>\n",
       "      <td>1900000.0</td>\n",
       "      <td>37565847.0</td>\n",
       "    </tr>\n",
       "    <tr>\n",
       "      <th>2</th>\n",
       "      <td>Angola</td>\n",
       "      <td>113923162050.111</td>\n",
       "      <td>Angola</td>\n",
       "      <td>AO</td>\n",
       "      <td>NaN</td>\n",
       "      <td>NaN</td>\n",
       "      <td>NaN</td>\n",
       "      <td>NaN</td>\n",
       "      <td>34.0</td>\n",
       "      <td>17.3</td>\n",
       "      <td>2800000.0</td>\n",
       "      <td>25096150.0</td>\n",
       "    </tr>\n",
       "    <tr>\n",
       "      <th>3</th>\n",
       "      <td>Argentina</td>\n",
       "      <td>545982375701.128</td>\n",
       "      <td>Argentina</td>\n",
       "      <td>AR</td>\n",
       "      <td>Ministry of Justice</td>\n",
       "      <td>52.0</td>\n",
       "      <td>1198.0</td>\n",
       "      <td>3.02</td>\n",
       "      <td>62.0</td>\n",
       "      <td>10.2</td>\n",
       "      <td>3950000.0</td>\n",
       "      <td>42096739.0</td>\n",
       "    </tr>\n",
       "    <tr>\n",
       "      <th>4</th>\n",
       "      <td>Armenia</td>\n",
       "      <td>10619320048.5857</td>\n",
       "      <td>Armenia</td>\n",
       "      <td>AM</td>\n",
       "      <td>CTS</td>\n",
       "      <td>13.0</td>\n",
       "      <td>9.0</td>\n",
       "      <td>0.29</td>\n",
       "      <td>52.0</td>\n",
       "      <td>12.5</td>\n",
       "      <td>380000.0</td>\n",
       "      <td>2881922.0</td>\n",
       "    </tr>\n",
       "  </tbody>\n",
       "</table>\n",
       "</div>"
      ],
      "text/plain": [
       "  Country Name     2012 [YR2012] Country/Territory ISO code  \\\n",
       "0      Albania  12319784787.2987           Albania       AL   \n",
       "1      Algeria  209058991952.125           Algeria       DZ   \n",
       "2       Angola  113923162050.111            Angola       AO   \n",
       "3    Argentina  545982375701.128         Argentina       AR   \n",
       "4      Armenia  10619320048.5857           Armenia       AM   \n",
       "\n",
       "                Source  % of homicides by firearm  \\\n",
       "0                  CTS                       65.9   \n",
       "1                  CTS                        4.8   \n",
       "2                  NaN                        NaN   \n",
       "3  Ministry of Justice                       52.0   \n",
       "4                  CTS                       13.0   \n",
       "\n",
       "   Number of homicides by firearm  Homicide by firearm rate per 100,000 pop  \\\n",
       "0                            56.0                                      1.76   \n",
       "1                            20.0                                      0.06   \n",
       "2                             NaN                                       NaN   \n",
       "3                          1198.0                                      3.02   \n",
       "4                             9.0                                      0.29   \n",
       "\n",
       "   Rank by rate of ownership  Average firearms per 100 people  \\\n",
       "0                       70.0                              8.6   \n",
       "1                       78.0                              7.6   \n",
       "2                       34.0                             17.3   \n",
       "3                       62.0                             10.2   \n",
       "4                       52.0                             12.5   \n",
       "\n",
       "   Average total all civilian firearms        2012  \n",
       "0                             270000.0   2900401.0  \n",
       "1                            1900000.0  37565847.0  \n",
       "2                            2800000.0  25096150.0  \n",
       "3                            3950000.0  42096739.0  \n",
       "4                             380000.0   2881922.0  "
      ]
     },
     "execution_count": 35,
     "metadata": {},
     "output_type": "execute_result"
    }
   ],
   "source": [
    "merge_2 =  merge_1.merge(pop, left_on=\"Country Name\", right_on = 'Country Name')\n",
    "merge_2.head()"
   ]
  },
  {
   "cell_type": "code",
   "execution_count": 36,
   "metadata": {},
   "outputs": [
    {
     "data": {
      "text/html": [
       "<div>\n",
       "<table border=\"1\" class=\"dataframe\">\n",
       "  <thead>\n",
       "    <tr style=\"text-align: right;\">\n",
       "      <th></th>\n",
       "      <th>Country Name</th>\n",
       "      <th>2012 [YR2012]</th>\n",
       "      <th>Country/Territory</th>\n",
       "      <th>ISO code</th>\n",
       "      <th>Source</th>\n",
       "      <th>% of homicides by firearm</th>\n",
       "      <th>Number of homicides by firearm</th>\n",
       "      <th>Homicide by firearm rate per 100,000 pop</th>\n",
       "      <th>Rank by rate of ownership</th>\n",
       "      <th>Average firearms per 100 people</th>\n",
       "      <th>Average total all civilian firearms</th>\n",
       "      <th>2012</th>\n",
       "      <th>Country</th>\n",
       "      <th>Guns per 100 inhabitants</th>\n",
       "      <th>Number of mass shootings (1983-2013)</th>\n",
       "    </tr>\n",
       "  </thead>\n",
       "  <tbody>\n",
       "    <tr>\n",
       "      <th>0</th>\n",
       "      <td>Australia</td>\n",
       "      <td>1543411012579.91</td>\n",
       "      <td>Australia</td>\n",
       "      <td>AU</td>\n",
       "      <td>NSO</td>\n",
       "      <td>11.5</td>\n",
       "      <td>30.0</td>\n",
       "      <td>0.14</td>\n",
       "      <td>42.0</td>\n",
       "      <td>15.0</td>\n",
       "      <td>3050000.0</td>\n",
       "      <td>22742475.0</td>\n",
       "      <td>Australia</td>\n",
       "      <td>15.0</td>\n",
       "      <td>4</td>\n",
       "    </tr>\n",
       "    <tr>\n",
       "      <th>1</th>\n",
       "      <td>Austria</td>\n",
       "      <td>409425234155.263</td>\n",
       "      <td>Austria</td>\n",
       "      <td>AT</td>\n",
       "      <td>CTS</td>\n",
       "      <td>29.5</td>\n",
       "      <td>18.0</td>\n",
       "      <td>0.22</td>\n",
       "      <td>14.0</td>\n",
       "      <td>30.4</td>\n",
       "      <td>2500000.0</td>\n",
       "      <td>8429991.0</td>\n",
       "      <td>Austria</td>\n",
       "      <td>30.4</td>\n",
       "      <td>1</td>\n",
       "    </tr>\n",
       "    <tr>\n",
       "      <th>2</th>\n",
       "      <td>Belgium</td>\n",
       "      <td>497884216568.867</td>\n",
       "      <td>Belgium</td>\n",
       "      <td>BE</td>\n",
       "      <td>WHO-MDB</td>\n",
       "      <td>39.5</td>\n",
       "      <td>70.0</td>\n",
       "      <td>0.68</td>\n",
       "      <td>34.0</td>\n",
       "      <td>17.2</td>\n",
       "      <td>1800000.0</td>\n",
       "      <td>11128246.0</td>\n",
       "      <td>Belgium</td>\n",
       "      <td>17.2</td>\n",
       "      <td>2</td>\n",
       "    </tr>\n",
       "    <tr>\n",
       "      <th>3</th>\n",
       "      <td>Canada</td>\n",
       "      <td>1824288757447.57</td>\n",
       "      <td>Canada</td>\n",
       "      <td>CA</td>\n",
       "      <td>CTS</td>\n",
       "      <td>32.0</td>\n",
       "      <td>173.0</td>\n",
       "      <td>0.51</td>\n",
       "      <td>13.0</td>\n",
       "      <td>30.8</td>\n",
       "      <td>9950000.0</td>\n",
       "      <td>34750545.0</td>\n",
       "      <td>Canada</td>\n",
       "      <td>30.8</td>\n",
       "      <td>4</td>\n",
       "    </tr>\n",
       "    <tr>\n",
       "      <th>4</th>\n",
       "      <td>Denmark</td>\n",
       "      <td>327148899962.146</td>\n",
       "      <td>Denmark</td>\n",
       "      <td>DK</td>\n",
       "      <td>CTS</td>\n",
       "      <td>31.9</td>\n",
       "      <td>15.0</td>\n",
       "      <td>0.27</td>\n",
       "      <td>54.0</td>\n",
       "      <td>12.0</td>\n",
       "      <td>650000.0</td>\n",
       "      <td>5591572.0</td>\n",
       "      <td>Denmark</td>\n",
       "      <td>12.0</td>\n",
       "      <td>0</td>\n",
       "    </tr>\n",
       "  </tbody>\n",
       "</table>\n",
       "</div>"
      ],
      "text/plain": [
       "  Country Name     2012 [YR2012] Country/Territory ISO code   Source  \\\n",
       "0    Australia  1543411012579.91         Australia       AU      NSO   \n",
       "1      Austria  409425234155.263           Austria       AT      CTS   \n",
       "2      Belgium  497884216568.867           Belgium       BE  WHO-MDB   \n",
       "3       Canada  1824288757447.57            Canada       CA      CTS   \n",
       "4      Denmark  327148899962.146           Denmark       DK      CTS   \n",
       "\n",
       "   % of homicides by firearm  Number of homicides by firearm  \\\n",
       "0                       11.5                            30.0   \n",
       "1                       29.5                            18.0   \n",
       "2                       39.5                            70.0   \n",
       "3                       32.0                           173.0   \n",
       "4                       31.9                            15.0   \n",
       "\n",
       "   Homicide by firearm rate per 100,000 pop  Rank by rate of ownership  \\\n",
       "0                                      0.14                       42.0   \n",
       "1                                      0.22                       14.0   \n",
       "2                                      0.68                       34.0   \n",
       "3                                      0.51                       13.0   \n",
       "4                                      0.27                       54.0   \n",
       "\n",
       "   Average firearms per 100 people  Average total all civilian firearms  \\\n",
       "0                             15.0                            3050000.0   \n",
       "1                             30.4                            2500000.0   \n",
       "2                             17.2                            1800000.0   \n",
       "3                             30.8                            9950000.0   \n",
       "4                             12.0                             650000.0   \n",
       "\n",
       "         2012    Country  Guns per 100 inhabitants  \\\n",
       "0  22742475.0  Australia                      15.0   \n",
       "1   8429991.0    Austria                      30.4   \n",
       "2  11128246.0    Belgium                      17.2   \n",
       "3  34750545.0     Canada                      30.8   \n",
       "4   5591572.0    Denmark                      12.0   \n",
       "\n",
       "   Number of mass shootings (1983-2013)  \n",
       "0                                     4  \n",
       "1                                     1  \n",
       "2                                     2  \n",
       "3                                     4  \n",
       "4                                     0  "
      ]
     },
     "execution_count": 36,
     "metadata": {},
     "output_type": "execute_result"
    }
   ],
   "source": [
    "merge_3 = merge_2.merge(shooting,left_on='Country Name', right_on='Country')\n",
    "merge_3.head()"
   ]
  },
  {
   "cell_type": "code",
   "execution_count": 38,
   "metadata": {},
   "outputs": [
    {
     "data": {
      "text/html": [
       "<div>\n",
       "<table border=\"1\" class=\"dataframe\">\n",
       "  <thead>\n",
       "    <tr style=\"text-align: right;\">\n",
       "      <th></th>\n",
       "      <th>Country Name</th>\n",
       "      <th>gdp</th>\n",
       "      <th>Country/Territory</th>\n",
       "      <th>ISO code</th>\n",
       "      <th>Source</th>\n",
       "      <th>% of homicides by firearm</th>\n",
       "      <th>Number of homicides by firearm</th>\n",
       "      <th>Homicide by firearm rate per 100,000 pop</th>\n",
       "      <th>Rank by rate of ownership</th>\n",
       "      <th>Average firearms per 100 people</th>\n",
       "      <th>Average total all civilian firearms</th>\n",
       "      <th>pop</th>\n",
       "      <th>Country</th>\n",
       "      <th>Guns per 100 inhabitants</th>\n",
       "      <th>Number of mass shootings</th>\n",
       "    </tr>\n",
       "  </thead>\n",
       "  <tbody>\n",
       "    <tr>\n",
       "      <th>0</th>\n",
       "      <td>Australia</td>\n",
       "      <td>1543411012579.91</td>\n",
       "      <td>Australia</td>\n",
       "      <td>AU</td>\n",
       "      <td>NSO</td>\n",
       "      <td>11.5</td>\n",
       "      <td>30.0</td>\n",
       "      <td>0.14</td>\n",
       "      <td>42.0</td>\n",
       "      <td>15.0</td>\n",
       "      <td>3050000.0</td>\n",
       "      <td>22742475.0</td>\n",
       "      <td>Australia</td>\n",
       "      <td>15.0</td>\n",
       "      <td>4</td>\n",
       "    </tr>\n",
       "    <tr>\n",
       "      <th>1</th>\n",
       "      <td>Austria</td>\n",
       "      <td>409425234155.263</td>\n",
       "      <td>Austria</td>\n",
       "      <td>AT</td>\n",
       "      <td>CTS</td>\n",
       "      <td>29.5</td>\n",
       "      <td>18.0</td>\n",
       "      <td>0.22</td>\n",
       "      <td>14.0</td>\n",
       "      <td>30.4</td>\n",
       "      <td>2500000.0</td>\n",
       "      <td>8429991.0</td>\n",
       "      <td>Austria</td>\n",
       "      <td>30.4</td>\n",
       "      <td>1</td>\n",
       "    </tr>\n",
       "    <tr>\n",
       "      <th>2</th>\n",
       "      <td>Belgium</td>\n",
       "      <td>497884216568.867</td>\n",
       "      <td>Belgium</td>\n",
       "      <td>BE</td>\n",
       "      <td>WHO-MDB</td>\n",
       "      <td>39.5</td>\n",
       "      <td>70.0</td>\n",
       "      <td>0.68</td>\n",
       "      <td>34.0</td>\n",
       "      <td>17.2</td>\n",
       "      <td>1800000.0</td>\n",
       "      <td>11128246.0</td>\n",
       "      <td>Belgium</td>\n",
       "      <td>17.2</td>\n",
       "      <td>2</td>\n",
       "    </tr>\n",
       "    <tr>\n",
       "      <th>3</th>\n",
       "      <td>Canada</td>\n",
       "      <td>1824288757447.57</td>\n",
       "      <td>Canada</td>\n",
       "      <td>CA</td>\n",
       "      <td>CTS</td>\n",
       "      <td>32.0</td>\n",
       "      <td>173.0</td>\n",
       "      <td>0.51</td>\n",
       "      <td>13.0</td>\n",
       "      <td>30.8</td>\n",
       "      <td>9950000.0</td>\n",
       "      <td>34750545.0</td>\n",
       "      <td>Canada</td>\n",
       "      <td>30.8</td>\n",
       "      <td>4</td>\n",
       "    </tr>\n",
       "    <tr>\n",
       "      <th>4</th>\n",
       "      <td>Denmark</td>\n",
       "      <td>327148899962.146</td>\n",
       "      <td>Denmark</td>\n",
       "      <td>DK</td>\n",
       "      <td>CTS</td>\n",
       "      <td>31.9</td>\n",
       "      <td>15.0</td>\n",
       "      <td>0.27</td>\n",
       "      <td>54.0</td>\n",
       "      <td>12.0</td>\n",
       "      <td>650000.0</td>\n",
       "      <td>5591572.0</td>\n",
       "      <td>Denmark</td>\n",
       "      <td>12.0</td>\n",
       "      <td>0</td>\n",
       "    </tr>\n",
       "  </tbody>\n",
       "</table>\n",
       "</div>"
      ],
      "text/plain": [
       "  Country Name               gdp Country/Territory ISO code   Source  \\\n",
       "0    Australia  1543411012579.91         Australia       AU      NSO   \n",
       "1      Austria  409425234155.263           Austria       AT      CTS   \n",
       "2      Belgium  497884216568.867           Belgium       BE  WHO-MDB   \n",
       "3       Canada  1824288757447.57            Canada       CA      CTS   \n",
       "4      Denmark  327148899962.146           Denmark       DK      CTS   \n",
       "\n",
       "   % of homicides by firearm  Number of homicides by firearm  \\\n",
       "0                       11.5                            30.0   \n",
       "1                       29.5                            18.0   \n",
       "2                       39.5                            70.0   \n",
       "3                       32.0                           173.0   \n",
       "4                       31.9                            15.0   \n",
       "\n",
       "   Homicide by firearm rate per 100,000 pop  Rank by rate of ownership  \\\n",
       "0                                      0.14                       42.0   \n",
       "1                                      0.22                       14.0   \n",
       "2                                      0.68                       34.0   \n",
       "3                                      0.51                       13.0   \n",
       "4                                      0.27                       54.0   \n",
       "\n",
       "   Average firearms per 100 people  Average total all civilian firearms  \\\n",
       "0                             15.0                            3050000.0   \n",
       "1                             30.4                            2500000.0   \n",
       "2                             17.2                            1800000.0   \n",
       "3                             30.8                            9950000.0   \n",
       "4                             12.0                             650000.0   \n",
       "\n",
       "          pop    Country  Guns per 100 inhabitants  Number of mass shootings  \n",
       "0  22742475.0  Australia                      15.0                         4  \n",
       "1   8429991.0    Austria                      30.4                         1  \n",
       "2  11128246.0    Belgium                      17.2                         2  \n",
       "3  34750545.0     Canada                      30.8                         4  \n",
       "4   5591572.0    Denmark                      12.0                         0  "
      ]
     },
     "execution_count": 38,
     "metadata": {},
     "output_type": "execute_result"
    }
   ],
   "source": [
    "df_ = merge_3.rename(index = str,columns={\"2012 [YR2012]\":'gdp', '2012':'pop','Number of mass shootings (1983-2013)':'Number of mass shootings'})\n",
    "df_.head()"
   ]
  },
  {
   "cell_type": "code",
   "execution_count": 41,
   "metadata": {},
   "outputs": [],
   "source": [
    "df_.gdp = df_.gdp.astype(float)"
   ]
  },
  {
   "cell_type": "markdown",
   "metadata": {},
   "source": [
    "## plot mass shooting vs gdp in absolute numbers, and per person. Show the errorbars (y errors)"
   ]
  },
  {
   "cell_type": "code",
   "execution_count": 46,
   "metadata": {},
   "outputs": [
    {
     "data": {
      "image/png": "[encoded data removed]",
      "text/plain": [
       "<matplotlib.figure.Figure at 0x7f131c93a6a0>"
      ]
     },
     "metadata": {},
     "output_type": "display_data"
    },
    {
     "name": "stdout",
     "output_type": "stream",
     "text": [
      "Number of mass shooting vs GDP, errors represent Poisson statistics.\n",
      "The datapoint to the top right of the plot is the USA, which has noth the highest GDP and the highest number of mass shootings\n"
     ]
    }
   ],
   "source": [
    "fig = plt.figure(figsize=(10,5)) \n",
    "ax = fig.add_subplot(111)\n",
    "\n",
    "scatter = ax.scatter(df_.gdp / 1e9, df_['Number of mass shootings'])\n",
    "ax.errorbar(df_.gdp / 1e9, df_['Number of mass shootings'], \n",
    "            yerr = np.sqrt(df_['Number of mass shootings'] * 1.0), fmt = '.')\n",
    "ax.set_xlabel(\"GDP (in billions)\")\n",
    "ax.set_ylabel(\"Number of mass shootings\")\n",
    "ax.set_ylim()\n",
    "plt.show()\n",
    "print (\"Number of mass shooting vs GDP, \" + \n",
    "       \"errors represent Poisson statistics.\\n\" + \n",
    "       \"The datapoint to the top right of the plot is the USA, \" + \n",
    "       \"which has noth the highest GDP and the highest number of mass shootings\")"
   ]
  },
  {
   "cell_type": "code",
   "execution_count": 44,
   "metadata": {},
   "outputs": [],
   "source": [
    "df_['shootingspp'] = df_[\"Number of mass shootings\"] / df_['pop'] * 1e3"
   ]
  },
  {
   "cell_type": "code",
   "execution_count": 49,
   "metadata": {},
   "outputs": [
    {
     "data": {
      "image/png": "[encoded data removed]",
      "text/plain": [
       "<matplotlib.figure.Figure at 0x7f131ef2d080>"
      ]
     },
     "metadata": {},
     "output_type": "display_data"
    },
    {
     "name": "stdout",
     "output_type": "stream",
     "text": [
      "Number of mass shooting per person vs GDP, errors represent Poisson statistics.\n",
      "The datapoint to the right of the plot is the USA, which has noth the highest GDP and the highest number of mass shootings\n"
     ]
    }
   ],
   "source": [
    "fig = plt.figure(figsize=(10,5)) \n",
    "ax = fig.add_subplot(111)\n",
    "\n",
    "scatter = ax.scatter(df_.gdp / 1e9, df_['shootingspp'])\n",
    "ax.errorbar(df_.gdp / 1e9, df_['shootingspp'], \n",
    "            yerr = np.sqrt(df_['shootingspp'] * 1.0), fmt = '.')\n",
    "ax.set_xlabel(\"GDP (in billions)\")\n",
    "ax.set_ylabel(\"Number of mass shooting per person\")\n",
    "ax.set_ylim()\n",
    "plt.show()\n",
    "print (\"Number of mass shooting per person vs GDP, \" + \n",
    "       \"errors represent Poisson statistics.\\n\" + \n",
    "       \"The datapoint to the right of the plot is the USA, \" + \n",
    "       \"which has noth the highest GDP and the highest number of mass shootings\")"
   ]
  },
  {
   "cell_type": "markdown",
   "metadata": {},
   "source": [
    "## plot the average number of civilian fire arms per person"
   ]
  },
  {
   "cell_type": "code",
   "execution_count": 50,
   "metadata": {},
   "outputs": [],
   "source": [
    "df_['civilian_fire_arms_pp'] = df_[\"Average total all civilian firearms\"] / df_['pop'] * 1e3"
   ]
  },
  {
   "cell_type": "code",
   "execution_count": 56,
   "metadata": {},
   "outputs": [
    {
     "data": {
      "image/png": "[encoded data removed]",
      "text/plain": [
       "<matplotlib.figure.Figure at 0x7f131c803898>"
      ]
     },
     "metadata": {},
     "output_type": "display_data"
    },
    {
     "name": "stdout",
     "output_type": "stream",
     "text": [
      "the average number of civilian fire arms per person vs GDP, The datapoint to the right of the plot is the USA, which has noth the highest GDP and the highest number of civilian fire arms per person\n"
     ]
    }
   ],
   "source": [
    "fig = plt.figure(figsize=(6,5)) \n",
    "ax = fig.add_subplot(111)\n",
    "\n",
    "scatter = ax.scatter(df_.gdp / 1e9, df_['civilian_fire_arms_pp'])\n",
    "ax.set_xlabel(\"GDP (in billions)\")\n",
    "ax.set_ylabel(\"Number of mass shooting per person\")\n",
    "ax.set_ylim()\n",
    "plt.show()\n",
    "print (\"the average number of civilian fire arms per person vs GDP, \" + \n",
    "       \"The datapoint to the right of the plot is the USA, \" + \n",
    "       \"which has noth the highest GDP and the highest number of civilian fire arms per person\")"
   ]
  },
  {
   "cell_type": "code",
   "execution_count": 57,
   "metadata": {},
   "outputs": [
    {
     "data": {
      "image/png": "[encoded data removed]",
      "text/plain": [
       "<matplotlib.figure.Figure at 0x7f131c75dbe0>"
      ]
     },
     "metadata": {},
     "output_type": "display_data"
    },
    {
     "name": "stdout",
     "output_type": "stream",
     "text": [
      "the average number of civilian fire arms per person vs GDP, errors represent Poisson statistics.\n",
      "The datapoint to the right of the plot is the USA, which has noth the highest GDP and the highest number ofcivilian fire arms per person\n"
     ]
    }
   ],
   "source": [
    "fig = plt.figure(figsize=(6,5)) \n",
    "ax = fig.add_subplot(111)\n",
    "\n",
    "scatter = ax.scatter(df_.gdp / 1e9, df_['civilian_fire_arms_pp'])\n",
    "ax.errorbar(df_.gdp / 1e9, df_['civilian_fire_arms_pp'], \n",
    "            yerr = np.sqrt(df_['civilian_fire_arms_pp'] * 1.0), fmt = '.')\n",
    "ax.set_xlabel(\"GDP (in billions)\")\n",
    "ax.set_ylabel(\"Number of mass shooting per person\")\n",
    "ax.set_ylim()\n",
    "plt.show()\n",
    "print (\"the average number of civilian fire arms per person vs GDP, \" + \n",
    "       \"errors represent Poisson statistics.\\n\" + \n",
    "       \"The datapoint to the right of the plot is the USA, \" + \n",
    "       \"which has noth the highest GDP and the highest number ofcivilian fire arms per person\")"
   ]
  },
  {
   "cell_type": "markdown",
   "metadata": {},
   "source": [
    "## plot the average number of homicide by fire arms per person"
   ]
  },
  {
   "cell_type": "code",
   "execution_count": 58,
   "metadata": {},
   "outputs": [
    {
     "data": {
      "text/plain": [
       "Text(0.5,0,'homicides by firearm per 1000 people')"
      ]
     },
     "execution_count": 58,
     "metadata": {},
     "output_type": "execute_result"
    },
    {
     "data": {
      "image/png": "[encoded data removed]",
      "text/plain": [
       "<matplotlib.figure.Figure at 0x7f131c9baa90>"
      ]
     },
     "metadata": {},
     "output_type": "display_data"
    }
   ],
   "source": [
    "fig, ax = plt.subplots()\n",
    "ax.hist(df_['Number of homicides by firearm'] / df_['pop'] * 1000)\n",
    "ax.set_xlabel('homicides by firearm per 1000 people')"
   ]
  },
  {
   "cell_type": "markdown",
   "metadata": {},
   "source": [
    "Histogram of the average number of homicide by fire arms per person. There is an outlier to the right of the plot, which has the highest homicides by firearm per 1000 people"
   ]
  },
  {
   "cell_type": "code",
   "execution_count": 60,
   "metadata": {},
   "outputs": [
    {
     "data": {
      "image/png": "[encoded data removed]",
      "text/plain": [
       "<matplotlib.figure.Figure at 0x7f131c75d470>"
      ]
     },
     "metadata": {},
     "output_type": "display_data"
    },
    {
     "name": "stdout",
     "output_type": "stream",
     "text": [
      "the average number of homicide by fire arms per person VS GDP, errors represent Poisson statistics.\n",
      "The datapoint to the right of the plot is the USA, which has noth the highest GDP and the number of homicide by fire arms per person and the highest error\n"
     ]
    }
   ],
   "source": [
    "fig = plt.figure(figsize=(6,5)) \n",
    "ax = fig.add_subplot(111)\n",
    "\n",
    "scatter = ax.scatter(df_.gdp / 1e9, df_['Number of homicides by firearm'] / df_['pop'] * 1000)\n",
    "ax.errorbar(df_.gdp / 1e9, df_['Number of homicides by firearm'] / df_['pop'] * 1000, \n",
    "            yerr = np.sqrt(df_['Number of homicides by firearm'] / df_['pop'] * 1000), fmt = '.')\n",
    "ax.set_xlabel(\"GDP (in billions)\")\n",
    "ax.set_ylabel(\"Number of mass shooting per person\")\n",
    "ax.set_ylim()\n",
    "plt.show()\n",
    "print (\"the average number of homicide by fire arms per person VS GDP, \" + \n",
    "       \"errors represent Poisson statistics.\\n\" + \n",
    "       \"The datapoint to the right of the plot is the USA, \" + \n",
    "       \"which has noth the highest GDP and the number of homicide by fire arms per person and the highest ero\")"
   ]
  },
  {
   "cell_type": "markdown",
   "metadata": {},
   "source": [
    "## plot the number of homicides by fire arm against the number of civilian firearms. plot the US in a different color"
   ]
  },
  {
   "cell_type": "code",
   "execution_count": 73,
   "metadata": {},
   "outputs": [
    {
     "data": {
      "image/png": "[encoded data removed]",
      "text/plain": [
       "<matplotlib.figure.Figure at 0x7f131f0c14e0>"
      ]
     },
     "metadata": {},
     "output_type": "display_data"
    },
    {
     "name": "stdout",
     "output_type": "stream",
     "text": [
      "the number of homicides by fire arm against the number of civilian firearms. errors represent Poisson statistics and the error is blue\n",
      "The datapoint to the right of the plot is the USA,it is in yelloe which has noth the highest GDP and the number of homicide by fire arms per person and the highest error\n"
     ]
    }
   ],
   "source": [
    "fig = plt.figure(figsize=(6,5)) \n",
    "ax = fig.add_subplot(111)\n",
    "\n",
    "scatter = ax.scatter(df_['Average total all civilian firearms'] / 1e9, df_['Number of homicides by firearm'],c = df_['Number of homicides by firearm'])\n",
    "ax.errorbar(df_['Average total all civilian firearms'] / 1e9, df_['Number of homicides by firearm'], \n",
    "            yerr = np.sqrt(df_['Number of homicides by firearm']), fmt = '.')\n",
    "ax.set_xlabel(\"Average total all civilian firearms\")\n",
    "ax.set_ylabel(\"Number of homicides by firearm\")\n",
    "ax.set_ylim()\n",
    "plt.show()\n",
    "print (\"the number of homicides by fire arm against the number of civilian firearms. \" + \n",
    "       \"errors represent Poisson statistics and the error is blue\\n\" + \n",
    "       \"The datapoint to the right of the plot is the USA,it is in yelloe \" + \n",
    "       \"which has noth the highest GDP and the number of homicide by fire arms per person and the highest error\")"
   ]
  },
  {
   "cell_type": "code",
   "execution_count": 71,
   "metadata": {},
   "outputs": [
    {
     "data": {
      "image/png": "[encoded data removed]",
      "text/plain": [
       "<matplotlib.figure.Figure at 0x7f131c9855c0>"
      ]
     },
     "metadata": {},
     "output_type": "display_data"
    },
    {
     "name": "stdout",
     "output_type": "stream",
     "text": [
      "the number of homicides by fire arm against the number of civilian firearms. The datapoint to the right of the plot is the USA,it is in yellow which has noth the highest GDP and the number of homicide by fire arms per person and the highest error\n"
     ]
    }
   ],
   "source": [
    "fig = plt.figure(figsize=(6,5)) \n",
    "ax = fig.add_subplot(111)\n",
    "\n",
    "scatter = ax.scatter(df_['Average total all civilian firearms'] / 1e9, df_['Number of homicides by firearm'],c = df_['Number of homicides by firearm'])\n",
    "ax.set_xlabel(\"Average total all civilian firearms\")\n",
    "ax.set_ylabel(\"Number of homicides by firearm\")\n",
    "ax.set_ylim()\n",
    "plt.show()\n",
    "print (\"the number of homicides by fire arm against the number of civilian firearms. \" + \n",
    "       \"The datapoint to the right of the plot is the USA,it is in yellow \" + \n",
    "       \"which has noth the highest GDP and the number of homicide by fire arms per person and the highest error\")"
   ]
  },
  {
   "cell_type": "markdown",
   "metadata": {},
   "source": [
    "## plot the number of mass shootings against the number of civilian firearms. plot the US in a different color"
   ]
  },
  {
   "cell_type": "code",
   "execution_count": 75,
   "metadata": {},
   "outputs": [
    {
     "data": {
      "image/png": "[encoded data removed]",
      "text/plain": [
       "<matplotlib.figure.Figure at 0x7f134c2d6f60>"
      ]
     },
     "metadata": {},
     "output_type": "display_data"
    },
    {
     "name": "stdout",
     "output_type": "stream",
     "text": [
      "the Number of mass shootings against the number of civilian firearms. The datapoint to the right of the plot is the USA,it is in yellow which has noth the highest GDP and the number of homicide by fire arms per person and the highest error\n"
     ]
    }
   ],
   "source": [
    "fig = plt.figure(figsize=(6,5)) \n",
    "ax = fig.add_subplot(111)\n",
    "\n",
    "scatter = ax.scatter(df_['Average total all civilian firearms'] / 1e9, df_['Number of mass shootings'],c = df_['Number of mass shootings'])\n",
    "ax.set_xlabel(\"Average total all civilian firearms\")\n",
    "ax.set_ylabel(\"Number of mass shootings\")\n",
    "ax.set_ylim()\n",
    "plt.show()\n",
    "print (\"the Number of mass shootings against the number of civilian firearms. \" + \n",
    "       \"The datapoint to the right of the plot is the USA,it is in yellow \" + \n",
    "       \"which has noth the highest GDP and the number of homicide by fire arms per person and the highest error\")"
   ]
  },
  {
   "cell_type": "code",
   "execution_count": 76,
   "metadata": {},
   "outputs": [
    {
     "data": {
      "image/png": "[encoded data removed]",
      "text/plain": [
       "<matplotlib.figure.Figure at 0x7f131c7273c8>"
      ]
     },
     "metadata": {},
     "output_type": "display_data"
    },
    {
     "name": "stdout",
     "output_type": "stream",
     "text": [
      "the Number of mass shootings against the number of civilian firearms. errors represent Poisson statistics and the error is blue\n",
      "The datapoint to the right of the plot is the USA,it is in yelloe which has noth the highest GDP and the number of homicide by fire arms per person and the highest error\n"
     ]
    }
   ],
   "source": [
    "fig = plt.figure(figsize=(6,5)) \n",
    "ax = fig.add_subplot(111)\n",
    "\n",
    "scatter = ax.scatter(df_['Average total all civilian firearms'] / 1e9, df_['Number of mass shootings'],c = df_['Number of mass shootings'])\n",
    "ax.errorbar(df_['Average total all civilian firearms'] / 1e9, df_['Number of mass shootings'], \n",
    "            yerr = np.sqrt(df_['Number of mass shootings']), fmt = '.')\n",
    "ax.set_xlabel(\"Average total all civilian firearms\")\n",
    "ax.set_ylabel(\"Number of mass shootings\")\n",
    "ax.set_ylim()\n",
    "plt.show()\n",
    "print (\"the Number of mass shootings against the number of civilian firearms. \" + \n",
    "       \"errors represent Poisson statistics and the error is blue\\n\" + \n",
    "       \"The datapoint to the right of the plot is the USA,it is in yelloe \" + \n",
    "       \"which has noth the highest GDP and the number of homicide by fire arms per person and the highest error\")"
   ]
  },
  {
   "cell_type": "markdown",
   "metadata": {},
   "source": [
    "## fit a line to the Number of mass shootings per person as a function of Average total all civilian firearms per person."
   ]
  },
  {
   "cell_type": "code",
   "execution_count": 83,
   "metadata": {},
   "outputs": [
    {
     "data": {
      "text/plain": [
       "0.00012356888832925391"
      ]
     },
     "execution_count": 83,
     "metadata": {},
     "output_type": "execute_result"
    }
   ],
   "source": [
    "df_.shootingspp.mean()"
   ]
  },
  {
   "cell_type": "code",
   "execution_count": 93,
   "metadata": {},
   "outputs": [
    {
     "data": {
      "image/png": "[encoded data removed]",
      "text/plain": [
       "<matplotlib.figure.Figure at 0x7f1313674898>"
      ]
     },
     "metadata": {},
     "output_type": "display_data"
    },
    {
     "name": "stdout",
     "output_type": "stream",
     "text": [
      "the Number of mass shootings against the number of civilian firearms. errors represent Poisson statistics and the error is blue\n",
      "The datapoint to the right of the plot is the USA,it is in yelloe which has noth the highest GDP and the number of homicide by fire arms per person and the highest error\n"
     ]
    }
   ],
   "source": [
    "fig = plt.figure(figsize=(6,5)) \n",
    "ax = fig.add_subplot(111)\n",
    "\n",
    "scatter = ax.scatter(df_['civilian_fire_arms_pp']/100, df_['shootingspp']/0.0001)\n",
    "ax.set_xlabel(\"civilian_fire_arms_pp\")\n",
    "ax.set_ylabel(\"shootingspp\")\n",
    "ax.set_ylim()\n",
    "plt.show()\n",
    "print (\"the Number of mass shootings against the number of civilian firearms. \" + \n",
    "       \"errors represent Poisson statistics and the error is blue\\n\" + \n",
    "       \"The datapoint to the right of the plot is the USA,it is in yelloe \" + \n",
    "       \"which has noth the highest GDP and the number of homicide by fire arms per person and the highest error\")"
   ]
  },
  {
   "cell_type": "code",
   "execution_count": 100,
   "metadata": {},
   "outputs": [
    {
     "name": "stderr",
     "output_type": "stream",
     "text": [
      "/usr/local/Anaconda3-5.0.0-Linux-x86_64/envs/PUI2016_Python3/lib/python3.5/site-packages/IPython/html.py:14: ShimWarning: The `IPython.html` package has been deprecated. You should import from `notebook` instead. `IPython.html.widgets` has moved to `ipywidgets`.\n",
      "  \"`IPython.html.widgets` has moved to `ipywidgets`.\", ShimWarning)\n"
     ]
    }
   ],
   "source": [
    "import matplotlib.pyplot as plt\n",
    "import statsmodels.formula.api as smf\n",
    "import seaborn as sns"
   ]
  },
  {
   "cell_type": "code",
   "execution_count": 114,
   "metadata": {},
   "outputs": [],
   "source": [
    "y = df_['shootingspp']/0.0001\n",
    "x = df_['civilian_fire_arms_pp']/100"
   ]
  },
  {
   "cell_type": "code",
   "execution_count": 116,
   "metadata": {},
   "outputs": [
    {
     "data": {
      "text/plain": [
       "Text(0,0.5,'shootingspp')"
      ]
     },
     "execution_count": 116,
     "metadata": {},
     "output_type": "execute_result"
    },
    {
     "name": "stderr",
     "output_type": "stream",
     "text": [
      "/usr/local/Anaconda3-5.0.0-Linux-x86_64/envs/PUI2016_Python3/lib/python3.5/site-packages/matplotlib/font_manager.py:1316: UserWarning: findfont: Font family ['sans-serif'] not found. Falling back to DejaVu Sans\n",
      "  (prop.get_family(), self.defaultFamily[fontext]))\n"
     ]
    },
    {
     "data": {
      "image/png": "[encoded data removed]",
      "text/plain": [
       "<matplotlib.figure.Figure at 0x7f1314eb9fd0>"
      ]
     },
     "metadata": {},
     "output_type": "display_data"
    }
   ],
   "source": [
    "fig, ax = plt.subplots(figsize=(6,6))\n",
    "ax.scatter(x,y)\n",
    "ax.set_xlabel('civilian_fire_arms_pp', fontsize=16)\n",
    "ax.set_ylabel('shootingspp', fontsize=16)"
   ]
  },
  {
   "cell_type": "code",
   "execution_count": 154,
   "metadata": {},
   "outputs": [
    {
     "name": "stderr",
     "output_type": "stream",
     "text": [
      "/usr/local/Anaconda3-5.0.0-Linux-x86_64/envs/PUI2016_Python3/lib/python3.5/site-packages/matplotlib/font_manager.py:1316: UserWarning: findfont: Font family ['sans-serif'] not found. Falling back to DejaVu Sans\n",
      "  (prop.get_family(), self.defaultFamily[fontext]))\n"
     ]
    },
    {
     "data": {
      "image/png": "[encoded data removed]",
      "text/plain": [
       "<matplotlib.figure.Figure at 0x7f1310c63908>"
      ]
     },
     "metadata": {},
     "output_type": "display_data"
    }
   ],
   "source": [
    "fig, ax = plt.subplots(figsize=(6,6))\n",
    "evals = np.sqrt(y)\n",
    "result_2 = smf.OLS(y,sm.add_constant(x)).fit().predict()\n",
    "plt.scatter(x,y,label = 'y')\n",
    "plt.legend()\n",
    "plt.plot(x,result_2,color='black',label='OLS')\n",
    "plt.legend()\n",
    "plt.show()"
   ]
  },
  {
   "cell_type": "code",
   "execution_count": 169,
   "metadata": {},
   "outputs": [
    {
     "name": "stderr",
     "output_type": "stream",
     "text": [
      "/usr/local/Anaconda3-5.0.0-Linux-x86_64/envs/PUI2016_Python3/lib/python3.5/site-packages/matplotlib/font_manager.py:1316: UserWarning: findfont: Font family ['sans-serif'] not found. Falling back to DejaVu Sans\n",
      "  (prop.get_family(), self.defaultFamily[fontext]))\n"
     ]
    },
    {
     "data": {
      "image/png": "[encoded data removed]",
      "text/plain": [
       "<matplotlib.figure.Figure at 0x7f1314c7fe48>"
      ]
     },
     "metadata": {},
     "output_type": "display_data"
    }
   ],
   "source": [
    "fig, ax = plt.subplots(figsize=(6,6))\n",
    "evals = np.sqrt(y+1)\n",
    "result = sm.WLS(y, sm.add_constant(x) ,1.0/evals**2).fit().predict()\n",
    "result_2 = smf.OLS(y,sm.add_constant(x)).fit().predict()\n",
    "\n",
    "plt.scatter(x,y, label = 'y')\n",
    "plt.errorbar(x, y, yerr = np.sqrt(y), fmt = '.',label = 'y-error')\n",
    "plt.plot(x,result,color='red',label = 'WLS')\n",
    "plt.legend()\n",
    "plt.plot(x,result_2,color='green',label='OLS')\n",
    "\n",
    "plt.legend()\n",
    "plt.show()"
   ]
  },
  {
   "cell_type": "markdown",
   "metadata": {},
   "source": [
    "## Extra C:"
   ]
  },
  {
   "cell_type": "code",
   "execution_count": 173,
   "metadata": {},
   "outputs": [
    {
     "name": "stderr",
     "output_type": "stream",
     "text": [
      "/usr/local/Anaconda3-5.0.0-Linux-x86_64/envs/PUI2016_Python3/lib/python3.5/site-packages/matplotlib/font_manager.py:1316: UserWarning: findfont: Font family ['sans-serif'] not found. Falling back to DejaVu Sans\n",
      "  (prop.get_family(), self.defaultFamily[fontext]))\n"
     ]
    },
    {
     "data": {
      "image/png": "[encoded data removed]",
      "text/plain": [
       "<matplotlib.figure.Figure at 0x7f1310b7d630>"
      ]
     },
     "metadata": {},
     "output_type": "display_data"
    }
   ],
   "source": [
    "plt.figure()\n",
    "import seaborn  as sns\n",
    "sns.regplot(x=x, y=y);\n",
    "\n",
    "plt.ylabel(\"Mass shootings\")\n",
    "plt.xlabel(\"Fire arms\");"
   ]
  },
  {
   "cell_type": "code",
   "execution_count": null,
   "metadata": {},
   "outputs": [],
   "source": []
  }
 ],
 "metadata": {
  "kernelspec": {
   "display_name": "PUI2016_Python3",
   "language": "python",
   "name": "pui2016_python3"
  },
  "language_info": {
   "codemirror_mode": {
    "name": "ipython",
    "version": 3
   },
   "file_extension": ".py",
   "mimetype": "text/x-python",
   "name": "python",
   "nbconvert_exporter": "python",
   "pygments_lexer": "ipython3",
   "version": "3.5.4"
  }
 },
 "nbformat": 4,
 "nbformat_minor": 2
}
