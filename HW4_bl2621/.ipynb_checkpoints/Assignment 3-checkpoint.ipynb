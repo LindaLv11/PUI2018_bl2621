{
 "cells": [
  {
   "cell_type": "code",
   "execution_count": 49,
   "metadata": {},
   "outputs": [],
   "source": [
    "import os\n",
    "import pandas as pd\n",
    "from math import sqrt"
   ]
  },
  {
   "cell_type": "markdown",
   "metadata": {},
   "source": [
    "1, Define Null and alternative hypothesis\n",
    "\n",
    "Null hypothesis: an implementation of an alternative bus route for bus line X8 does not improve circulation. \n",
    "\n",
    "$H_0$ : ${\\mu_{\\mathrm{{[mins\\:before\\:alternative]}}}} = {\\mu_{\\mathrm{[mins\\:after\\:alternative]}}}$\n",
    "\n",
    "Alternative hypothesis: an implementation of an alternative bus route for bus line X8 improves circulation.\n",
    "\n",
    "$H_a$ : ${\\mu_{\\mathrm{{[mins\\:before\\:alternative]}}}} > {\\mu_{\\mathrm{[mins\\:after\\:alternative]}}}$"
   ]
  },
  {
   "cell_type": "markdown",
   "metadata": {},
   "source": [
    "2, use a significance level  $\\alpha=0.05$"
   ]
  },
  {
   "cell_type": "markdown",
   "metadata": {},
   "source": [
    "3, Calculate test staisitc:\n",
    "\n",
    "$z$ = $\\frac{\\mu _{sample}-\\mu _{population}}{\\sigma / \\sqrt{n}}$"
   ]
  },
  {
   "cell_type": "code",
   "execution_count": 31,
   "metadata": {},
   "outputs": [],
   "source": [
    "def timestxt():\n",
    "    print (\"Downloading\")\n",
    "    if not os.path.isfile(os.getenv(\"PUIDATA\") + \"/\" + 'times.txt'):\n",
    "        os.system('curl -O https://raw.githubusercontent.com/fedhere/PUI2018_fb55/master/Lab4_fb55/times.txt')\n",
    "        os.system(\"mv \" + 'times.txt ' + os.getenv(\"PUIDATA\")) \n",
    "    if not os.path.isfile(os.getenv(\"PUIDATA\") + \"/\" + 'times.txt'):\n",
    "        print (\"WARNING!!! something is wrong: the file is not there!\")\n",
    "    else:\n",
    "        print (\"file in place, you can continue\")"
   ]
  },
  {
   "cell_type": "code",
   "execution_count": 32,
   "metadata": {},
   "outputs": [
    {
     "name": "stdout",
     "output_type": "stream",
     "text": [
      "Downloading\n",
      "file in place, you can continue\n"
     ]
    }
   ],
   "source": [
    "timestxt()"
   ]
  },
  {
   "cell_type": "code",
   "execution_count": 38,
   "metadata": {},
   "outputs": [],
   "source": [
    "times = pd.read_csv(os.getenv(\"PUIDATA\") + \"/\" + 'times.txt', header = None)"
   ]
  },
  {
   "cell_type": "code",
   "execution_count": 54,
   "metadata": {},
   "outputs": [
    {
     "name": "stdout",
     "output_type": "stream",
     "text": [
      "sample size: 100\n",
      "sample mean: 34.4661616883\n",
      "sample standard deviation: 7.13728013375\n"
     ]
    }
   ],
   "source": [
    "sample_size = len(times)\n",
    "print('sample size: ' + str(sample_size))\n",
    "sample_mean = times[0].mean()\n",
    "print('sample mean: ' + str(sample_mean))\n",
    "sample_std = times[0].std()\n",
    "print('sample standard deviation: ' + str(sample_std))"
   ]
  },
  {
   "cell_type": "code",
   "execution_count": 58,
   "metadata": {},
   "outputs": [
    {
     "name": "stdout",
     "output_type": "stream",
     "text": [
      "the Z statistics is -2.55639718617\n"
     ]
    }
   ],
   "source": [
    "z = (sample_mean - 36) / (6 / sqrt(sample_size))\n",
    "print('the Z statistics is ' + str(z))"
   ]
  },
  {
   "cell_type": "markdown",
   "metadata": {},
   "source": [
    "4,Using the z-table, determine the rejection regions for you z-test."
   ]
  },
  {
   "cell_type": "markdown",
   "metadata": {},
   "source": [
    "This is a one-tailed test, therefore the rejection region is any z-test value samller than the critical z value for a one tailed test with alpha = 0.05.\n",
    "The critical value for one-tailed z-test at alpha = 0.05 is -1.645"
   ]
  },
  {
   "cell_type": "markdown",
   "metadata": {},
   "source": [
    "5, State the conclusion."
   ]
  },
  {
   "cell_type": "markdown",
   "metadata": {},
   "source": [
    "The result of the z test is inside the rejection region. Reject the null hypothesis. An implementation of an alternative bus route for bus line X8 improves circulation."
   ]
  },
  {
   "cell_type": "code",
   "execution_count": null,
   "metadata": {},
   "outputs": [],
   "source": []
  }
 ],
 "metadata": {
  "kernelspec": {
   "display_name": "PUI2016_Python3",
   "language": "python",
   "name": "pui2016_python3"
  },
  "language_info": {
   "codemirror_mode": {
    "name": "ipython",
    "version": 3
   },
   "file_extension": ".py",
   "mimetype": "text/x-python",
   "name": "python",
   "nbconvert_exporter": "python",
   "pygments_lexer": "ipython3",
   "version": "3.5.4"
  }
 },
 "nbformat": 4,
 "nbformat_minor": 2
}
